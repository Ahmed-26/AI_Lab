{
 "cells": [
  {
   "cell_type": "markdown",
   "id": "c97cd447",
   "metadata": {},
   "source": [
    "#### **Name:** Ahmed Rasheed\n",
    "#### **Roll no:** SU92-BSDSM-F24-021"
   ]
  },
  {
   "cell_type": "markdown",
   "id": "df60b47f",
   "metadata": {},
   "source": [
    "To-Do list (Dynamic)"
   ]
  },
  {
   "cell_type": "code",
   "execution_count": 3,
   "id": "87b90fd6",
   "metadata": {},
   "outputs": [
    {
     "name": "stdout",
     "output_type": "stream",
     "text": [
      "\n",
      "Options: 1) Add Task  2) Remove Task  3) Show Tasks  4) Exit\n",
      "Task added.\n",
      "\n",
      "Options: 1) Add Task  2) Remove Task  3) Show Tasks  4) Exit\n",
      "Task added.\n",
      "\n",
      "Options: 1) Add Task  2) Remove Task  3) Show Tasks  4) Exit\n",
      "Task added.\n",
      "\n",
      "Options: 1) Add Task  2) Remove Task  3) Show Tasks  4) Exit\n",
      "Task added.\n",
      "\n",
      "Options: 1) Add Task  2) Remove Task  3) Show Tasks  4) Exit\n",
      "Your To-Do List:\n",
      "1. AI lab\n",
      "2. Ai project\n",
      "\n",
      "Options: 1) Add Task  2) Remove Task  3) Show Tasks  4) Exit\n",
      "Your To-Do List:\n",
      "1. AI lab\n",
      "2. Ai project\n",
      "\n",
      "Options: 1) Add Task  2) Remove Task  3) Show Tasks  4) Exit\n",
      "To-Do Task System Closed.\n",
      "To-Do Task System Closed.\n"
     ]
    }
   ],
   "source": [
    "tasks = []\n",
    "\n",
    "def show_tasks():\n",
    "    if not tasks:\n",
    "        print(\"No tasks yet.\")\n",
    "    else:\n",
    "        print(\"Your To-Do List:\")\n",
    "        for idx, task in enumerate(tasks, 1):\n",
    "            print(f\"{idx}. {task}\")\n",
    "\n",
    "while True:\n",
    "    print(\"\\nOptions: 1) Add Task  2) Remove Task  3) Show Tasks  4) Exit\")\n",
    "    choice = input(\"Choose an option (1-4): \")\n",
    "    if choice == '1':\n",
    "        new_task = input(\"Enter new task: \")\n",
    "        tasks.append(new_task)\n",
    "        print(\"Task added.\")\n",
    "    elif choice == '2':\n",
    "        if not tasks:\n",
    "            print(\"No tasks to remove.\")\n",
    "            continue\n",
    "        show_tasks()\n",
    "        try:\n",
    "            num = int(input(\"Enter task number to remove: \"))\n",
    "            if 1 <= num <= len(tasks):\n",
    "                removed = tasks.pop(num-1)\n",
    "                print(f\"Removed: {removed}\")\n",
    "            else:\n",
    "                print(\"Invalid number.\")\n",
    "        except ValueError:\n",
    "            print(\"Please enter a valid number.\")\n",
    "    elif choice == '3':\n",
    "        show_tasks()\n",
    "    elif choice == '4':\n",
    "        print(\"To-Do Task System Closed.\")\n",
    "        break\n",
    "    else:\n",
    "        print(\"Invalid option. Try again.\")"
   ]
  }
 ],
 "metadata": {
  "kernelspec": {
   "display_name": "Python 3",
   "language": "python",
   "name": "python3"
  },
  "language_info": {
   "codemirror_mode": {
    "name": "ipython",
    "version": 3
   },
   "file_extension": ".py",
   "mimetype": "text/x-python",
   "name": "python",
   "nbconvert_exporter": "python",
   "pygments_lexer": "ipython3",
   "version": "3.12.7"
  }
 },
 "nbformat": 4,
 "nbformat_minor": 5
}
